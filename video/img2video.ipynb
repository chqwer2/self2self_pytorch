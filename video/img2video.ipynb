{
 "cells": [
  {
   "cell_type": "code",
   "execution_count": 14,
   "id": "f1d3611c-5118-44ea-bd27-4c239228fb54",
   "metadata": {},
   "outputs": [],
   "source": [
    "import cv2\n",
    "import os\n",
    "\n",
    "image_folder = \"/root/autodl-tmp/self2self/testsets/PolyU/45/-1/model/Self2Self\"\n",
    "video_name = 'video/45.JPG.self2self.mp4'\n",
    "\n",
    "# image_folder =  '/root/autodl-tmp/self2self_pytorch/experiment/images/45.JPG'\n",
    "# video_name = 'video/45.JPG.GN.mp4'\n",
    "\n",
    "images = [img for img in os.listdir(image_folder) if img.endswith(\".png\")]\n",
    "\n"
   ]
  },
  {
   "cell_type": "code",
   "execution_count": 15,
   "id": "b340158e-4ecd-4d0e-9494-8b88e10f2e25",
   "metadata": {},
   "outputs": [
    {
     "name": "stdout",
     "output_type": "stream",
     "text": [
      "Done\n"
     ]
    }
   ],
   "source": [
    "frame = cv2.imread(os.path.join(image_folder, images[0]))\n",
    "height, width, layers = frame.shape\n",
    "fourcc = cv2.VideoWriter_fourcc(*'mp4v')\n",
    "\n",
    "video = cv2.VideoWriter(video_name, fourcc, 20, (width,height))\n",
    "\n",
    "for i, image in enumerate(images):\n",
    "    \n",
    "    #\n",
    "    f1 = cv2.imread(os.path.join(image_folder, image))\n",
    "    cv2.putText(img=f1, text=f'epoch:{i*1000}', org=(380, 20), fontFace=cv2.FONT_HERSHEY_TRIPLEX, fontScale=0.5, color=(255, 255, 255),thickness=1)\n",
    "\n",
    "    \n",
    "    video.write(f1)\n",
    "    # cv2.putText(frame, text, (50, 50), font, 2, (255, 255, 0), 2)\n",
    "\n",
    "cv2.destroyAllWindows()\n",
    "video.release()\n",
    "print(\"Done\")"
   ]
  },
  {
   "cell_type": "code",
   "execution_count": null,
   "id": "04f09f7e-f92b-40c9-82a5-329d2f749ba4",
   "metadata": {},
   "outputs": [],
   "source": []
  }
 ],
 "metadata": {
  "kernelspec": {
   "display_name": "Python 3 (ipykernel)",
   "language": "python",
   "name": "python3"
  },
  "language_info": {
   "codemirror_mode": {
    "name": "ipython",
    "version": 3
   },
   "file_extension": ".py",
   "mimetype": "text/x-python",
   "name": "python",
   "nbconvert_exporter": "python",
   "pygments_lexer": "ipython3",
   "version": "3.8.10"
  }
 },
 "nbformat": 4,
 "nbformat_minor": 5
}
