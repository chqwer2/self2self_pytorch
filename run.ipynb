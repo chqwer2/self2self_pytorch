{
 "cells": [
  {
   "cell_type": "code",
   "execution_count": 1,
   "id": "b4f4b942-19a8-4db7-a727-725c83b93b90",
   "metadata": {
    "tags": []
   },
   "outputs": [],
   "source": [
    "import torch\n",
    "torch.cuda.empty_cache()"
   ]
  },
  {
   "cell_type": "code",
   "execution_count": 2,
   "id": "9d6d61fa-1816-4d97-82a5-87c0b2f34f43",
   "metadata": {},
   "outputs": [
    {
     "data": {
      "text/plain": [
       "0"
      ]
     },
     "execution_count": 2,
     "metadata": {},
     "output_type": "execute_result"
    }
   ],
   "source": [
    "import gc\n",
    "gc.collect()"
   ]
  },
  {
   "cell_type": "code",
   "execution_count": 3,
   "id": "9adb1102-9721-4337-adfc-0e2a8b207ed9",
   "metadata": {},
   "outputs": [
    {
     "name": "stdout",
     "output_type": "stream",
     "text": [
      "Looking in indexes: https://pypi.tuna.tsinghua.edu.cn/simple\n",
      "Collecting opencv-python\n",
      "  Downloading https://pypi.tuna.tsinghua.edu.cn/packages/af/bf/8d189a5c43460f6b5c8eb81ead8732e94b9f73ef8d9abba9e8f5a61a6531/opencv_python-4.6.0.66-cp36-abi3-manylinux_2_17_x86_64.manylinux2014_x86_64.whl (60.9 MB)\n",
      "\u001b[K     |████████████████████████████████| 60.9 MB 24.8 MB/s eta 0:00:01\n",
      "\u001b[?25hRequirement already satisfied: numpy>=1.17.3 in /root/miniconda3/lib/python3.8/site-packages (from opencv-python) (1.21.4)\n",
      "Installing collected packages: opencv-python\n",
      "Successfully installed opencv-python-4.6.0.66\n",
      "\u001b[33mWARNING: Running pip as the 'root' user can result in broken permissions and conflicting behaviour with the system package manager. It is recommended to use a virtual environment instead: https://pip.pypa.io/warnings/venv\u001b[0m\n"
     ]
    }
   ],
   "source": [
    "# !pip install -i  https://pypi.tuna.tsinghua.edu.cn/simple opencv-python\n",
    "# !pip install -i  https://pypi.tuna.tsinghua.edu.cn/simple scipy\n",
    "# !pip install -i  https://pypi.tuna.tsinghua.edu.cn/simple scikit-learn"
   ]
  },
  {
   "cell_type": "code",
   "execution_count": null,
   "id": "ceaf75cf-5e26-4397-ba86-51177b2aa2c5",
   "metadata": {},
   "outputs": [
    {
     "name": "stdout",
     "output_type": "stream",
     "text": [
      "/root/autodl-tmp/self2self_pytorch\n",
      "img.shape: (512, 512, 3)\n",
      "my_self2self.py:61: UserWarning: To copy construct from a tensor, it is recommended to use sourceTensor.clone().detach() or sourceTensor.clone().detach().requires_grad_(True), rather than torch.tensor(sourceTensor).\n",
      "  image = torch.tensor(image)\n",
      "/root/miniconda3/lib/python3.8/site-packages/torch/nn/functional.py:3631: UserWarning: Default upsampling behavior when mode=bilinear is changed to align_corners=False since 0.4.0. Please specify align_corners=True if the old behavior is desired. See the documentation of nn.Upsample for details.\n",
      "  warnings.warn(\n",
      "Elapsed 0m 15s (remain 378m 22s)  iteration 100, loss = 0.7674\n",
      "Elapsed 0m 30s (remain 377m 36s)  iteration 200, loss = 0.3529\n",
      "Elapsed 0m 44s (remain 373m 44s)  iteration 300, loss = 0.2849\n",
      "Elapsed 0m 59s (remain 369m 59s)  iteration 400, loss = 0.2488\n",
      "Elapsed 1m 13s (remain 368m 1s)  iteration 500, loss = 0.2208\n",
      "Elapsed 1m 28s (remain 366m 13s)  iteration 600, loss = 0.2017\n",
      "Elapsed 1m 43s (remain 366m 22s)  iteration 700, loss = 0.1880\n",
      "Elapsed 1m 57s (remain 366m 16s)  iteration 800, loss = 0.1766\n",
      "Elapsed 2m 12s (remain 364m 37s)  iteration 900, loss = 0.1687\n",
      "Elapsed 2m 26s (remain 363m 29s)  iteration 1000, loss = 0.1589\n",
      "Elapsed 2m 45s (remain 373m 57s)  iteration 1100, loss = 0.1514\n",
      "Elapsed 3m 0s (remain 372m 1s)  iteration 1200, loss = 0.1447\n",
      "Elapsed 3m 14s (remain 369m 57s)  iteration 1300, loss = 0.1363\n",
      "Elapsed 3m 28s (remain 369m 29s)  iteration 1400, loss = 0.1308\n",
      "Elapsed 3m 43s (remain 368m 47s)  iteration 1500, loss = 0.1256\n",
      "Elapsed 3m 57s (remain 366m 45s)  iteration 1600, loss = 0.1211\n",
      "Elapsed 4m 11s (remain 365m 15s)  iteration 1700, loss = 0.1182\n",
      "Elapsed 4m 24s (remain 363m 30s)  iteration 1800, loss = 0.1139\n",
      "Elapsed 4m 38s (remain 362m 8s)  iteration 1900, loss = 0.1139\n",
      "Elapsed 4m 52s (remain 360m 58s)  iteration 2000, loss = 0.1103\n",
      "Elapsed 5m 12s (remain 366m 15s)  iteration 2100, loss = 0.1076\n",
      "Elapsed 5m 25s (remain 364m 38s)  iteration 2200, loss = 0.1046\n",
      "Elapsed 5m 39s (remain 363m 10s)  iteration 2300, loss = 0.1012\n",
      "Elapsed 5m 53s (remain 361m 56s)  iteration 2400, loss = 0.1003\n",
      "Elapsed 6m 6s (remain 360m 39s)  iteration 2500, loss = 0.0985\n",
      "Elapsed 6m 19s (remain 358m 58s)  iteration 2600, loss = 0.0959\n",
      "Elapsed 6m 33s (remain 357m 53s)  iteration 2700, loss = 0.0940\n",
      "Elapsed 6m 47s (remain 356m 52s)  iteration 2800, loss = 0.0936\n",
      "Elapsed 7m 0s (remain 355m 53s)  iteration 2900, loss = 0.0915\n",
      "Elapsed 7m 14s (remain 354m 51s)  iteration 3000, loss = 0.0919\n",
      "Elapsed 7m 33s (remain 358m 5s)  iteration 3100, loss = 0.0901\n",
      "Elapsed 7m 47s (remain 357m 17s)  iteration 3200, loss = 0.0878\n",
      "Elapsed 8m 1s (remain 356m 33s)  iteration 3300, loss = 0.0875\n",
      "Elapsed 8m 15s (remain 355m 56s)  iteration 3400, loss = 0.0872\n",
      "Elapsed 8m 29s (remain 355m 10s)  iteration 3500, loss = 0.0840\n",
      "Elapsed 8m 42s (remain 354m 20s)  iteration 3600, loss = 0.0848\n",
      "Elapsed 8m 56s (remain 353m 35s)  iteration 3700, loss = 0.0839\n",
      "Elapsed 9m 10s (remain 352m 56s)  iteration 3800, loss = 0.0828\n",
      "Elapsed 9m 24s (remain 352m 9s)  iteration 3900, loss = 0.0819\n",
      "Elapsed 9m 37s (remain 351m 8s)  iteration 4000, loss = 0.0809\n",
      "Elapsed 9m 55s (remain 353m 18s)  iteration 4100, loss = 0.0809\n",
      "Elapsed 10m 9s (remain 352m 28s)  iteration 4200, loss = 0.0794\n",
      "Elapsed 10m 22s (remain 351m 29s)  iteration 4300, loss = 0.0787\n",
      "Elapsed 10m 35s (remain 350m 39s)  iteration 4400, loss = 0.0774\n",
      "Elapsed 10m 49s (remain 350m 4s)  iteration 4500, loss = 0.0773\n",
      "Elapsed 11m 3s (remain 349m 29s)  iteration 4600, loss = 0.0772\n",
      "Elapsed 11m 17s (remain 348m 56s)  iteration 4700, loss = 0.0765\n",
      "Elapsed 11m 30s (remain 348m 18s)  iteration 4800, loss = 0.0748\n",
      "Elapsed 11m 44s (remain 347m 54s)  iteration 4900, loss = 0.0738\n",
      "Elapsed 11m 58s (remain 347m 3s)  iteration 5000, loss = 0.0729\n",
      "Elapsed 12m 16s (remain 348m 37s)  iteration 5100, loss = 0.0725\n",
      "Elapsed 12m 29s (remain 347m 51s)  iteration 5200, loss = 0.0715\n",
      "Elapsed 12m 42s (remain 347m 3s)  iteration 5300, loss = 0.0723\n",
      "Elapsed 12m 55s (remain 346m 4s)  iteration 5400, loss = 0.0714\n",
      "Elapsed 13m 8s (remain 345m 17s)  iteration 5500, loss = 0.0713\n",
      "Elapsed 13m 21s (remain 344m 25s)  iteration 5600, loss = 0.0705\n",
      "Elapsed 13m 34s (remain 343m 29s)  iteration 5700, loss = 0.0702\n",
      "Elapsed 13m 47s (remain 342m 41s)  iteration 5800, loss = 0.0690\n",
      "Elapsed 13m 59s (remain 341m 54s)  iteration 5900, loss = 0.0694\n",
      "Elapsed 14m 12s (remain 340m 56s)  iteration 6000, loss = 0.0684\n",
      "Elapsed 14m 29s (remain 342m 1s)  iteration 6100, loss = 0.0683\n",
      "Elapsed 14m 42s (remain 341m 9s)  iteration 6200, loss = 0.0680\n",
      "Elapsed 14m 55s (remain 340m 24s)  iteration 6300, loss = 0.0672\n",
      "Elapsed 15m 9s (remain 339m 59s)  iteration 6400, loss = 0.0668\n",
      "Elapsed 15m 21s (remain 339m 13s)  iteration 6500, loss = 0.0649\n",
      "Elapsed 15m 34s (remain 338m 25s)  iteration 6600, loss = 0.0651\n",
      "Elapsed 15m 47s (remain 337m 37s)  iteration 6700, loss = 0.0651\n",
      "Elapsed 15m 59s (remain 336m 52s)  iteration 6800, loss = 0.0647\n",
      "Elapsed 16m 12s (remain 336m 11s)  iteration 6900, loss = 0.0642\n",
      "Elapsed 16m 25s (remain 335m 27s)  iteration 7000, loss = 0.0645\n",
      "Elapsed 16m 42s (remain 336m 16s)  iteration 7100, loss = 0.0641\n",
      "Elapsed 16m 55s (remain 335m 37s)  iteration 7200, loss = 0.0635\n",
      "Elapsed 17m 8s (remain 335m 10s)  iteration 7300, loss = 0.0629\n",
      "Elapsed 17m 21s (remain 334m 30s)  iteration 7400, loss = 0.0619\n",
      "Elapsed 17m 33s (remain 333m 44s)  iteration 7500, loss = 0.0631\n",
      "Elapsed 17m 46s (remain 333m 1s)  iteration 7600, loss = 0.0618\n",
      "Elapsed 17m 59s (remain 332m 23s)  iteration 7700, loss = 0.0622\n",
      "Elapsed 18m 11s (remain 331m 41s)  iteration 7800, loss = 0.0610\n",
      "Elapsed 18m 24s (remain 330m 58s)  iteration 7900, loss = 0.0612\n",
      "Elapsed 18m 36s (remain 330m 19s)  iteration 8000, loss = 0.0611\n",
      "Elapsed 18m 53s (remain 330m 59s)  iteration 8100, loss = 0.0596\n",
      "Elapsed 19m 6s (remain 330m 18s)  iteration 8200, loss = 0.0603\n",
      "Elapsed 19m 18s (remain 329m 40s)  iteration 8300, loss = 0.0587\n",
      "Elapsed 19m 31s (remain 329m 15s)  iteration 8400, loss = 0.0595\n",
      "Elapsed 19m 44s (remain 328m 31s)  iteration 8500, loss = 0.0585\n",
      "Elapsed 19m 56s (remain 327m 53s)  iteration 8600, loss = 0.0596\n",
      "Elapsed 20m 9s (remain 327m 23s)  iteration 8700, loss = 0.0600\n",
      "Elapsed 20m 22s (remain 326m 49s)  iteration 8800, loss = 0.0583\n",
      "Elapsed 20m 34s (remain 326m 12s)  iteration 8900, loss = 0.0588\n",
      "Elapsed 20m 46s (remain 325m 35s)  iteration 9000, loss = 0.0580\n",
      "Elapsed 21m 3s (remain 326m 5s)  iteration 9100, loss = 0.0576\n",
      "Elapsed 21m 15s (remain 325m 21s)  iteration 9200, loss = 0.0576\n",
      "Elapsed 21m 28s (remain 324m 46s)  iteration 9300, loss = 0.0574\n",
      "Elapsed 21m 40s (remain 324m 11s)  iteration 9400, loss = 0.0577\n",
      "Elapsed 21m 52s (remain 323m 34s)  iteration 9500, loss = 0.0575\n",
      "Elapsed 22m 4s (remain 322m 55s)  iteration 9600, loss = 0.0567\n",
      "Elapsed 22m 16s (remain 322m 16s)  iteration 9700, loss = 0.0567\n",
      "Elapsed 22m 29s (remain 321m 42s)  iteration 9800, loss = 0.0557\n",
      "Elapsed 22m 41s (remain 321m 6s)  iteration 9900, loss = 0.0549\n",
      "Elapsed 22m 53s (remain 320m 34s)  iteration 10000, loss = 0.0552\n",
      "Elapsed 23m 10s (remain 321m 3s)  iteration 10100, loss = 0.0559\n",
      "Elapsed 23m 22s (remain 320m 28s)  iteration 10200, loss = 0.0552\n",
      "Elapsed 23m 35s (remain 319m 57s)  iteration 10300, loss = 0.0549\n",
      "Elapsed 23m 47s (remain 319m 22s)  iteration 10400, loss = 0.0544\n",
      "Elapsed 23m 59s (remain 318m 49s)  iteration 10500, loss = 0.0544\n",
      "Elapsed 24m 12s (remain 318m 20s)  iteration 10600, loss = 0.0546\n",
      "Elapsed 24m 25s (remain 317m 53s)  iteration 10700, loss = 0.0546\n",
      "Elapsed 24m 37s (remain 317m 21s)  iteration 10800, loss = 0.0535\n",
      "Elapsed 24m 49s (remain 316m 52s)  iteration 10900, loss = 0.0547\n",
      "Elapsed 25m 2s (remain 316m 22s)  iteration 11000, loss = 0.0549\n",
      "Elapsed 25m 20s (remain 317m 1s)  iteration 11100, loss = 0.0535\n",
      "Elapsed 25m 33s (remain 316m 47s)  iteration 11200, loss = 0.0538\n",
      "Elapsed 25m 46s (remain 316m 27s)  iteration 11300, loss = 0.0536\n",
      "Elapsed 25m 59s (remain 316m 0s)  iteration 11400, loss = 0.0536\n",
      "Elapsed 26m 12s (remain 315m 40s)  iteration 11500, loss = 0.0528\n",
      "Elapsed 26m 25s (remain 315m 13s)  iteration 11600, loss = 0.0525\n",
      "Elapsed 26m 37s (remain 314m 48s)  iteration 11700, loss = 0.0528\n",
      "Elapsed 26m 51s (remain 314m 30s)  iteration 11800, loss = 0.0524\n",
      "Elapsed 27m 4s (remain 314m 11s)  iteration 11900, loss = 0.0525\n",
      "Elapsed 27m 16s (remain 313m 44s)  iteration 12000, loss = 0.0519\n",
      "Elapsed 27m 34s (remain 314m 18s)  iteration 12100, loss = 0.0515\n",
      "Elapsed 27m 47s (remain 313m 52s)  iteration 12200, loss = 0.0514\n",
      "Elapsed 28m 0s (remain 313m 30s)  iteration 12300, loss = 0.0510\n",
      "Elapsed 28m 13s (remain 313m 8s)  iteration 12400, loss = 0.0516\n",
      "Elapsed 28m 26s (remain 312m 47s)  iteration 12500, loss = 0.0512\n",
      "Elapsed 28m 39s (remain 312m 25s)  iteration 12600, loss = 0.0512\n",
      "Elapsed 28m 52s (remain 312m 5s)  iteration 12700, loss = 0.0509\n",
      "Elapsed 29m 4s (remain 311m 40s)  iteration 12800, loss = 0.0516\n",
      "Elapsed 29m 17s (remain 311m 23s)  iteration 12900, loss = 0.0512\n",
      "Elapsed 29m 30s (remain 311m 2s)  iteration 13000, loss = 0.0508\n",
      "Elapsed 29m 48s (remain 311m 30s)  iteration 13100, loss = 0.0514\n",
      "Elapsed 30m 1s (remain 311m 6s)  iteration 13200, loss = 0.0503\n",
      "Elapsed 30m 14s (remain 310m 46s)  iteration 13300, loss = 0.0501\n",
      "Elapsed 30m 28s (remain 310m 36s)  iteration 13400, loss = 0.0506\n",
      "Elapsed 30m 42s (remain 310m 24s)  iteration 13500, loss = 0.0504\n",
      "Elapsed 30m 55s (remain 310m 10s)  iteration 13600, loss = 0.0512\n",
      "Elapsed 31m 9s (remain 309m 56s)  iteration 13700, loss = 0.0500\n",
      "Elapsed 31m 22s (remain 309m 36s)  iteration 13800, loss = 0.0505\n",
      "Elapsed 31m 35s (remain 309m 18s)  iteration 13900, loss = 0.0501\n",
      "Elapsed 31m 49s (remain 309m 7s)  iteration 14000, loss = 0.0498\n",
      "Elapsed 32m 7s (remain 309m 37s)  iteration 14100, loss = 0.0493\n",
      "Elapsed 32m 20s (remain 309m 16s)  iteration 14200, loss = 0.0488\n",
      "Elapsed 32m 33s (remain 309m 0s)  iteration 14300, loss = 0.0492\n",
      "Elapsed 32m 46s (remain 308m 40s)  iteration 14400, loss = 0.0501\n",
      "Elapsed 32m 59s (remain 308m 19s)  iteration 14500, loss = 0.0489\n",
      "Elapsed 33m 12s (remain 307m 55s)  iteration 14600, loss = 0.0487\n",
      "Elapsed 33m 25s (remain 307m 35s)  iteration 14700, loss = 0.0485\n",
      "Elapsed 33m 38s (remain 307m 14s)  iteration 14800, loss = 0.0485\n",
      "Elapsed 33m 50s (remain 306m 54s)  iteration 14900, loss = 0.0481\n",
      "Elapsed 34m 3s (remain 306m 32s)  iteration 15000, loss = 0.0489\n",
      "Elapsed 34m 20s (remain 306m 50s)  iteration 15100, loss = 0.0483\n",
      "Elapsed 34m 33s (remain 306m 27s)  iteration 15200, loss = 0.0478\n",
      "Elapsed 34m 46s (remain 306m 7s)  iteration 15300, loss = 0.0485\n",
      "Elapsed 34m 59s (remain 305m 50s)  iteration 15400, loss = 0.0488\n",
      "Elapsed 35m 12s (remain 305m 30s)  iteration 15500, loss = 0.0482\n",
      "Elapsed 35m 24s (remain 305m 7s)  iteration 15600, loss = 0.0478\n",
      "Elapsed 35m 37s (remain 304m 47s)  iteration 15700, loss = 0.0476\n",
      "Elapsed 35m 50s (remain 304m 28s)  iteration 15800, loss = 0.0472\n",
      "Elapsed 36m 4s (remain 304m 13s)  iteration 15900, loss = 0.0470\n",
      "Elapsed 36m 17s (remain 303m 57s)  iteration 16000, loss = 0.0471\n",
      "Elapsed 36m 34s (remain 304m 13s)  iteration 16100, loss = 0.0479\n"
     ]
    }
   ],
   "source": [
    "%cd /root/autodl-tmp/self2self_pytorch\n",
    "!python my_self2self.py && shutdown    # 用&&拼接表示前边的命令执行成功后才会执行shutdown。请根据自己的需要选择\n"
   ]
  },
  {
   "cell_type": "code",
   "execution_count": 3,
   "id": "4d2cecf6-5368-42eb-9ab4-d865947b7561",
   "metadata": {},
   "outputs": [],
   "source": [
    "!git add *"
   ]
  },
  {
   "cell_type": "code",
   "execution_count": 5,
   "id": "08f5ba95-817d-42cd-9772-4ac1f699ce8a",
   "metadata": {},
   "outputs": [],
   "source": [
    "!git config --global user.email ch981129@126.com\n",
    "!git config --global user.name chqwer2"
   ]
  },
  {
   "cell_type": "code",
   "execution_count": 6,
   "id": "9e543875-49d4-4e39-a5ca-9c47d90ebaab",
   "metadata": {},
   "outputs": [
    {
     "name": "stdout",
     "output_type": "stream",
     "text": [
      "[main fcc610a] Prepare\n",
      " 9 files changed, 194 insertions(+), 6 deletions(-)\n",
      " create mode 100644 __pycache__/config.cpython-38.pyc\n",
      " create mode 100644 __pycache__/model.cpython-38.pyc\n",
      " create mode 100644 __pycache__/partialconv2d.cpython-38.pyc\n",
      " create mode 100644 __pycache__/util.cpython-38.pyc\n",
      " create mode 100644 experiment/images/.ipynb_checkpoints/noisy-checkpoint.png\n",
      " create mode 100644 experiment/images/noisy.png\n",
      " create mode 100644 run.ipynb\n"
     ]
    }
   ],
   "source": [
    "!git commit -m \"Prepare\""
   ]
  },
  {
   "cell_type": "code",
   "execution_count": 12,
   "id": "33e63f91-f8c0-4a26-b9bf-019aa3ed8bfb",
   "metadata": {},
   "outputs": [
    {
     "name": "stdout",
     "output_type": "stream",
     "text": [
      "Already up to date.\n"
     ]
    }
   ],
   "source": [
    "!git pull"
   ]
  },
  {
   "cell_type": "code",
   "execution_count": 11,
   "id": "3b62f559-76f0-463d-af8f-21b61ceeeef7",
   "metadata": {},
   "outputs": [
    {
     "name": "stdout",
     "output_type": "stream",
     "text": [
      "[main 115ab31] pull\n"
     ]
    }
   ],
   "source": [
    "!git commit -m \"pull\""
   ]
  },
  {
   "cell_type": "code",
   "execution_count": null,
   "id": "cc8761aa-a750-41d5-b499-b719a7e72ccf",
   "metadata": {},
   "outputs": [],
   "source": []
  }
 ],
 "metadata": {
  "kernelspec": {
   "display_name": "Python 3 (ipykernel)",
   "language": "python",
   "name": "python3"
  },
  "language_info": {
   "codemirror_mode": {
    "name": "ipython",
    "version": 3
   },
   "file_extension": ".py",
   "mimetype": "text/x-python",
   "name": "python",
   "nbconvert_exporter": "python",
   "pygments_lexer": "ipython3",
   "version": "3.8.10"
  }
 },
 "nbformat": 4,
 "nbformat_minor": 5
}
